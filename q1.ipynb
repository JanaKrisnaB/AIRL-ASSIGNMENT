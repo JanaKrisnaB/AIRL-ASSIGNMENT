{
  "metadata": {
    "kernelspec": {
      "language": "python",
      "display_name": "Python 3",
      "name": "python3"
    },
    "language_info": {
      "name": "python",
      "version": "3.11.13",
      "mimetype": "text/x-python",
      "codemirror_mode": {
        "name": "ipython",
        "version": 3
      },
      "pygments_lexer": "ipython3",
      "nbconvert_exporter": "python",
      "file_extension": ".py"
    },
    "kaggle": {
      "accelerator": "nvidiaTeslaT4",
      "dataSources": [],
      "dockerImageVersionId": 31090,
      "isInternetEnabled": true,
      "language": "python",
      "sourceType": "notebook",
      "isGpuEnabled": true
    },
    "colab": {
      "provenance": []
    }
  },
  "nbformat_minor": 0,
  "nbformat": 4,
  "cells": [
    {
      "cell_type": "markdown",
      "source": [
        "**Necessary Importings**"
      ],
      "metadata": {
        "id": "e7O19wzUvhfK"
      }
    },
    {
      "cell_type": "code",
      "source": [
        "import torch\n",
        "import torch.nn as nn\n",
        "import torchvision\n",
        "import torchvision.transforms as transforms\n",
        "from torch.utils.data import DataLoader\n",
        "from einops import rearrange\n",
        "import copy\n",
        "import time\n",
        "from torch.optim.lr_scheduler import CosineAnnealingLR\n",
        "import matplotlib.pyplot as plt"
      ],
      "metadata": {
        "_uuid": "8f2839f25d086af736a60e9eeb907d3b93b6e0e5",
        "_cell_guid": "b1076dfc-b9ad-4769-8c92-a6c4dae69d19",
        "trusted": true,
        "execution": {
          "iopub.status.busy": "2025-10-03T19:26:35.319842Z",
          "iopub.execute_input": "2025-10-03T19:26:35.320103Z",
          "iopub.status.idle": "2025-10-03T19:26:35.324632Z",
          "shell.execute_reply.started": "2025-10-03T19:26:35.320084Z",
          "shell.execute_reply": "2025-10-03T19:26:35.323816Z"
        },
        "id": "ENXLvpXrvGdx"
      },
      "outputs": [],
      "execution_count": null
    },
    {
      "cell_type": "markdown",
      "source": [
        "**Data transforms**"
      ],
      "metadata": {
        "id": "mgYAz75IvGdz"
      }
    },
    {
      "cell_type": "code",
      "source": [
        "CIFAR_MEAN = (0.4914, 0.4822, 0.4465)\n",
        "CIFAR_STD = (0.2023, 0.1994, 0.2010)\n",
        "\n",
        "transform_train = transforms.Compose([\n",
        "    transforms.Resize((128,128)),\n",
        "    transforms.RandomHorizontalFlip(),\n",
        "    transforms.RandomCrop(128, padding=4),\n",
        "    transforms.AutoAugment(transforms.AutoAugmentPolicy.CIFAR10),\n",
        "    transforms.ToTensor(),\n",
        "    transforms.Normalize(CIFAR_MEAN, CIFAR_STD),\n",
        "    transforms.RandomErasing(p=0.2, scale=(0.02, 0.1), ratio=(0.3, 3.3))\n",
        "])\n",
        "\n",
        "transform_test = transforms.Compose([\n",
        "    transforms.Resize((128,128)),\n",
        "    transforms.ToTensor(),\n",
        "    transforms.Normalize(CIFAR_MEAN, CIFAR_STD)\n",
        "])\n",
        "\n",
        "train_dataset = torchvision.datasets.CIFAR10(root='./data', train=True, download=True, transform=transform_train)\n",
        "test_dataset = torchvision.datasets.CIFAR10(root='./data', train=False, download=True, transform=transform_test)\n",
        "\n",
        "train_loader = DataLoader(train_dataset, batch_size=128, shuffle=True, num_workers=2)\n",
        "test_loader = DataLoader(test_dataset, batch_size=128, shuffle=False, num_workers=2)\n",
        "\n",
        "device = 'cuda' if torch.cuda.is_available() else 'cpu'"
      ],
      "metadata": {
        "trusted": true,
        "execution": {
          "iopub.status.busy": "2025-10-03T19:26:36.641923Z",
          "iopub.execute_input": "2025-10-03T19:26:36.64218Z",
          "iopub.status.idle": "2025-10-03T19:26:38.220513Z",
          "shell.execute_reply.started": "2025-10-03T19:26:36.64216Z",
          "shell.execute_reply": "2025-10-03T19:26:38.219959Z"
        },
        "id": "RfPFsVdxvGd0"
      },
      "outputs": [],
      "execution_count": null
    },
    {
      "cell_type": "markdown",
      "source": [
        "**Attention**"
      ],
      "metadata": {
        "id": "E-9FDXVovGd0"
      }
    },
    {
      "cell_type": "code",
      "source": [
        "class Attention(nn.Module):\n",
        "    def __init__(self, dim, n_heads=6, dropout=0.1):\n",
        "        super().__init__()\n",
        "        self.att = nn.MultiheadAttention(embed_dim=dim, num_heads=n_heads, dropout=dropout, batch_first=False)\n",
        "    def forward(self, x):\n",
        "        x = x.transpose(0,1)  #seq_len, batch, dim\n",
        "        attn_out, _ = self.att(x, x, x)\n",
        "        return attn_out.transpose(0,1)"
      ],
      "metadata": {
        "trusted": true,
        "execution": {
          "iopub.status.busy": "2025-10-03T19:26:46.54384Z",
          "iopub.execute_input": "2025-10-03T19:26:46.544111Z",
          "iopub.status.idle": "2025-10-03T19:26:46.548706Z",
          "shell.execute_reply.started": "2025-10-03T19:26:46.544091Z",
          "shell.execute_reply": "2025-10-03T19:26:46.548138Z"
        },
        "id": "Zo_RNSXmvGd1"
      },
      "outputs": [],
      "execution_count": null
    },
    {
      "cell_type": "markdown",
      "source": [
        "**MLP**"
      ],
      "metadata": {
        "id": "BNjb3J4QvGd1"
      }
    },
    {
      "cell_type": "code",
      "source": [
        "class MLP(nn.Module):\n",
        "  #multilayer perceptron\n",
        "  #it captures the complex patterns and learns non linear relationships\n",
        "    def __init__(self, dim, hidden_dim, dropout=0.1):\n",
        "        super().__init__()\n",
        "        self.net = nn.Sequential(\n",
        "            nn.Linear(dim, hidden_dim),\n",
        "            nn.GELU(),\n",
        "            nn.Dropout(dropout),\n",
        "            nn.Linear(hidden_dim, dim),\n",
        "            nn.Dropout(dropout)\n",
        "        )\n",
        "    def forward(self, x):\n",
        "        return self.net(x)"
      ],
      "metadata": {
        "trusted": true,
        "execution": {
          "iopub.status.busy": "2025-10-03T19:26:50.382799Z",
          "iopub.execute_input": "2025-10-03T19:26:50.383492Z",
          "iopub.status.idle": "2025-10-03T19:26:50.38784Z",
          "shell.execute_reply.started": "2025-10-03T19:26:50.383466Z",
          "shell.execute_reply": "2025-10-03T19:26:50.387117Z"
        },
        "id": "JMUUn_ESvGd1"
      },
      "outputs": [],
      "execution_count": null
    },
    {
      "cell_type": "markdown",
      "source": [
        "**Transformer Block**"
      ],
      "metadata": {
        "id": "QPjUeCpzvGd1"
      }
    },
    {
      "cell_type": "code",
      "source": [
        "class TransformerBlock(nn.Module):\n",
        "    def __init__(self, dim, n_heads, mlp_dim, dropout=0.1):\n",
        "        super().__init__()\n",
        "        self.norm1 = nn.LayerNorm(dim)\n",
        "        self.attn = Attention(dim, n_heads, dropout)\n",
        "        self.norm2 = nn.LayerNorm(dim)\n",
        "        self.mlp = MLP(dim, mlp_dim, dropout)\n",
        "    def forward(self, x):\n",
        "        x = x + self.attn(self.norm1(x))\n",
        "        x = x + self.mlp(self.norm2(x))\n",
        "        return x"
      ],
      "metadata": {
        "trusted": true,
        "execution": {
          "iopub.status.busy": "2025-10-03T19:26:52.943132Z",
          "iopub.execute_input": "2025-10-03T19:26:52.943705Z",
          "iopub.status.idle": "2025-10-03T19:26:52.947898Z",
          "shell.execute_reply.started": "2025-10-03T19:26:52.943679Z",
          "shell.execute_reply": "2025-10-03T19:26:52.947358Z"
        },
        "id": "x-dGckeavGd2"
      },
      "outputs": [],
      "execution_count": null
    },
    {
      "cell_type": "code",
      "source": [
        "def spt_shift(x):\n",
        "    \"\"\"\n",
        "    Shifted Patch Tokenization for ViT.\n",
        "    x: input tensor (B, C, H, W)\n",
        "    Returns tensor with shifted images stacked along batch dimension\n",
        "    \"\"\"\n",
        "    #I found this method was used by DeepLearning.Ai for small datasets\n",
        "    B, C, H, W = x.shape\n",
        "    shifts = [-1, 0, 1]  #pixel shifts in H and W\n",
        "    shifted_images = []\n",
        "    for dx in shifts:\n",
        "        for dy in shifts:\n",
        "            shifted = torch.roll(x, shifts=(dx, dy), dims=(2,3))\n",
        "            shifted_images.append(shifted)\n",
        "    return torch.cat(shifted_images, dim=0)"
      ],
      "metadata": {
        "trusted": true,
        "execution": {
          "iopub.status.busy": "2025-10-03T19:26:54.306087Z",
          "iopub.execute_input": "2025-10-03T19:26:54.306385Z",
          "iopub.status.idle": "2025-10-03T19:26:54.310886Z",
          "shell.execute_reply.started": "2025-10-03T19:26:54.306363Z",
          "shell.execute_reply": "2025-10-03T19:26:54.310342Z"
        },
        "id": "cU4PFCesvGd2"
      },
      "outputs": [],
      "execution_count": null
    },
    {
      "cell_type": "markdown",
      "source": [
        "**ViT Model**"
      ],
      "metadata": {
        "id": "hx21Af5XvGd2"
      }
    },
    {
      "cell_type": "code",
      "source": [
        "class ViT_SPT(nn.Module):\n",
        "    def __init__(self, *, image_size=128, patch_size=16, in_channels=3,\n",
        "                 num_classes=10, dim=192, depth=8, n_heads=6, mlp_dim=768, dropout=0.1):\n",
        "        super().__init__()\n",
        "        assert image_size % patch_size == 0\n",
        "        num_patches = (image_size // patch_size) ** 2\n",
        "\n",
        "        self.patch_embed = nn.Conv2d(in_channels, dim, kernel_size=patch_size, stride=patch_size)\n",
        "        self.cls_token = nn.Parameter(torch.randn(1,1,dim))\n",
        "        self.pos_embed = nn.Parameter(torch.randn(1, num_patches+1, dim))\n",
        "        self.blocks = nn.ModuleList([\n",
        "            TransformerBlock(dim=dim, n_heads=n_heads, mlp_dim=mlp_dim, dropout=dropout)\n",
        "            for _ in range(depth)\n",
        "        ])\n",
        "        self.norm = nn.LayerNorm(dim)\n",
        "        self.head = nn.Linear(dim, num_classes)\n",
        "        self.patch_size = patch_size\n",
        "\n",
        "    def forward(self, x):\n",
        "        #Applying SPT\n",
        "        x = spt_shift(x)\n",
        "        B = x.shape[0]\n",
        "        #Patch embedding\n",
        "        patches = self.patch_embed(x)\n",
        "        patches = patches.flatten(2).transpose(1,2)\n",
        "        #CLS token\n",
        "        cls_tokens = self.cls_token.expand(B, -1, -1)\n",
        "        x = torch.cat((cls_tokens, patches), dim=1)\n",
        "        x = x + self.pos_embed\n",
        "\n",
        "        #Transformer blocks\n",
        "        for block in self.blocks:\n",
        "            x = block(x)\n",
        "\n",
        "        cls_out = x[:,0,:]\n",
        "        logits = self.head(self.norm(cls_out))\n",
        "        return logits\n"
      ],
      "metadata": {
        "trusted": true,
        "execution": {
          "iopub.status.busy": "2025-10-03T19:26:57.072953Z",
          "iopub.execute_input": "2025-10-03T19:26:57.07324Z",
          "iopub.status.idle": "2025-10-03T19:26:57.080858Z",
          "shell.execute_reply.started": "2025-10-03T19:26:57.073218Z",
          "shell.execute_reply": "2025-10-03T19:26:57.080111Z"
        },
        "id": "Tw-_ZXH_vGd2"
      },
      "outputs": [],
      "execution_count": null
    },
    {
      "cell_type": "markdown",
      "source": [
        "**Initializing model**"
      ],
      "metadata": {
        "id": "wuOXUcdDvGd3"
      }
    },
    {
      "cell_type": "code",
      "source": [
        "model = ViT(image_size=128, patch_size=16, dim=192, depth=8, n_heads=6, mlp_dim=768, dropout=0.1).to(device)"
      ],
      "metadata": {
        "trusted": true,
        "execution": {
          "iopub.status.busy": "2025-10-03T19:27:06.3931Z",
          "iopub.execute_input": "2025-10-03T19:27:06.393412Z",
          "iopub.status.idle": "2025-10-03T19:27:06.443035Z",
          "shell.execute_reply.started": "2025-10-03T19:27:06.393388Z",
          "shell.execute_reply": "2025-10-03T19:27:06.442334Z"
        },
        "id": "fIE-4ysLvGd3"
      },
      "outputs": [],
      "execution_count": null
    },
    {
      "cell_type": "markdown",
      "source": [
        "**Loss, optimizer, scheduler**"
      ],
      "metadata": {
        "id": "b0liiBQhvGd3"
      }
    },
    {
      "cell_type": "code",
      "source": [
        "import numpy as np\n",
        "criterion = nn.CrossEntropyLoss(label_smoothing=0.1)\n",
        "optimizer = torch.optim.AdamW(model.parameters(), lr=5e-4, weight_decay=0.05)\n",
        "\n",
        "num_epochs = 50\n",
        "warmup_epochs = 5\n",
        "base_lr = 5e-4\n",
        "min_lr = 1e-6\n",
        "\n",
        "def cosine_warmup_lr(epoch: int):\n",
        "    if epoch < warmup_epochs:\n",
        "        #Linear warmup\n",
        "        return float(epoch + 1) / warmup_epochs\n",
        "    else:\n",
        "        decay_epochs = num_epochs - warmup_epochs\n",
        "        cosine_decay = 0.5 * (1 + np.cos(np.pi * (epoch - warmup_epochs) / decay_epochs))\n",
        "        return min_lr/base_lr + (1 - min_lr/base_lr) * cosine_decay\n",
        "\n",
        "scheduler = torch.optim.lr_scheduler.LambdaLR(optimizer, lr_lambda=cosine_warmup_lr, last_epoch=-1)\n"
      ],
      "metadata": {
        "trusted": true,
        "execution": {
          "iopub.status.busy": "2025-10-03T19:28:53.836062Z",
          "iopub.execute_input": "2025-10-03T19:28:53.836751Z",
          "iopub.status.idle": "2025-10-03T19:28:53.842407Z",
          "shell.execute_reply.started": "2025-10-03T19:28:53.836726Z",
          "shell.execute_reply": "2025-10-03T19:28:53.841803Z"
        },
        "id": "h8rUF4NnvGd4"
      },
      "outputs": [],
      "execution_count": null
    },
    {
      "cell_type": "markdown",
      "source": [
        "**Early stopping setup**"
      ],
      "metadata": {
        "id": "O0vDA7LovGd4"
      }
    },
    {
      "cell_type": "code",
      "source": [
        "patience = 5\n",
        "trigger_times = 0\n",
        "best_model = copy.deepcopy(model.state_dict())\n",
        "num_epochs = 50\n",
        "#This can be Increased but for smaller dataset I felt this is sufficient because after particular number of epochs there is not much imporvement in accuracy"
      ],
      "metadata": {
        "trusted": true,
        "execution": {
          "iopub.status.busy": "2025-10-03T19:29:06.673093Z",
          "iopub.execute_input": "2025-10-03T19:29:06.673669Z",
          "iopub.status.idle": "2025-10-03T19:29:06.685828Z",
          "shell.execute_reply.started": "2025-10-03T19:29:06.673643Z",
          "shell.execute_reply": "2025-10-03T19:29:06.685237Z"
        },
        "id": "MovHn60SvGd4"
      },
      "outputs": [],
      "execution_count": null
    },
    {
      "cell_type": "markdown",
      "source": [
        "**Training Loop**"
      ],
      "metadata": {
        "id": "MgrPgtctvGd4"
      }
    },
    {
      "cell_type": "code",
      "source": [
        "best_acc=0\n",
        "train_acc_list, val_acc_list, train_loss_list = [], [], []\n",
        "def training(num_epochs):\n",
        "    global best_acc\n",
        "    for epoch in range(num_epochs):\n",
        "        model.train()\n",
        "        running_loss, correct, total = 0, 0, 0\n",
        "        start_time = time.time()\n",
        "\n",
        "        for images, labels in train_loader:\n",
        "            images, labels = images.to(device), labels.to(device)\n",
        "            optimizer.zero_grad()\n",
        "            outputs = model(images)\n",
        "            loss = criterion(outputs, labels)\n",
        "            loss.backward()\n",
        "            optimizer.step()\n",
        "\n",
        "            _, predicted = torch.max(outputs, 1)\n",
        "            total += labels.size(0)\n",
        "            correct += (predicted == labels).sum().item()\n",
        "            running_loss += loss.item() * images.size(0)\n",
        "\n",
        "        scheduler.step()\n",
        "\n",
        "        #Validation\n",
        "        model.eval()\n",
        "        correct_test, total_test = 0, 0\n",
        "        with torch.no_grad():\n",
        "            for images, labels in test_loader:\n",
        "                images, labels = images.to(device), labels.to(device)\n",
        "                outputs = model(images)\n",
        "                _, predicted = torch.max(outputs, 1)\n",
        "                total_test += labels.size(0)\n",
        "                correct_test += (predicted == labels).sum().item()\n",
        "\n",
        "        train_acc = correct / total\n",
        "        test_acc = correct_test / total_test\n",
        "        train_loss = running_loss / total\n",
        "        train_acc_list.append(train_acc)\n",
        "        val_acc_list.append(test_acc)\n",
        "        train_loss_list.append(train_loss)\n",
        "        epoch_time = time.time() - start_time\n",
        "\n",
        "        print(f\"Epoch [{epoch+1}/{num_epochs}] | \"\n",
        "              f\"Train Loss: {train_loss:.4f} | Train Acc: {train_acc*100:.2f}% | \"\n",
        "              f\"Test Acc: {test_acc*100:.2f}% | Time: {epoch_time:.1f}s\")\n",
        "\n",
        "        if test_acc > best_acc:\n",
        "            best_acc = test_acc\n",
        "            best_model = copy.deepcopy(model.state_dict())\n",
        "            trigger_times = 0\n",
        "        else:\n",
        "            trigger_times += 1\n",
        "            if trigger_times >= patience:\n",
        "                print(f\"Early stopping at epoch {epoch+1}\")\n",
        "                break"
      ],
      "metadata": {
        "trusted": true,
        "execution": {
          "iopub.status.busy": "2025-10-03T19:29:09.463887Z",
          "iopub.execute_input": "2025-10-03T19:29:09.464578Z",
          "iopub.status.idle": "2025-10-03T19:29:09.472251Z",
          "shell.execute_reply.started": "2025-10-03T19:29:09.464551Z",
          "shell.execute_reply": "2025-10-03T19:29:09.471602Z"
        },
        "id": "AYTO4cHkvGd4"
      },
      "outputs": [],
      "execution_count": null
    },
    {
      "cell_type": "code",
      "source": [
        "training(50)"
      ],
      "metadata": {
        "trusted": true,
        "execution": {
          "iopub.status.busy": "2025-10-03T19:29:13.111759Z",
          "iopub.execute_input": "2025-10-03T19:29:13.112226Z",
          "iopub.status.idle": "2025-10-03T20:15:49.464129Z",
          "shell.execute_reply.started": "2025-10-03T19:29:13.112205Z",
          "shell.execute_reply": "2025-10-03T20:15:49.463371Z"
        },
        "id": "UXwSJOZavGd4",
        "outputId": "ae41710d-ad80-4764-aa94-4651a8cdaf07"
      },
      "outputs": [
        {
          "name": "stdout",
          "text": "Epoch [1/50] | Train Loss: 2.0508 | Train Acc: 26.96% | Test Acc: 45.30% | Time: 56.4s\nEpoch [2/50] | Train Loss: 1.8283 | Train Acc: 38.83% | Test Acc: 50.34% | Time: 55.7s\nEpoch [3/50] | Train Loss: 1.7343 | Train Acc: 42.64% | Test Acc: 53.42% | Time: 55.9s\nEpoch [4/50] | Train Loss: 1.6797 | Train Acc: 45.52% | Test Acc: 57.72% | Time: 55.4s\nEpoch [5/50] | Train Loss: 1.6356 | Train Acc: 47.83% | Test Acc: 59.79% | Time: 55.5s\nEpoch [6/50] | Train Loss: 1.5793 | Train Acc: 50.59% | Test Acc: 60.36% | Time: 55.7s\nEpoch [7/50] | Train Loss: 1.5505 | Train Acc: 51.83% | Test Acc: 61.17% | Time: 55.8s\nEpoch [8/50] | Train Loss: 1.5128 | Train Acc: 53.73% | Test Acc: 64.54% | Time: 55.9s\nEpoch [9/50] | Train Loss: 1.4783 | Train Acc: 55.13% | Test Acc: 63.02% | Time: 55.6s\nEpoch [10/50] | Train Loss: 1.4542 | Train Acc: 56.53% | Test Acc: 65.56% | Time: 55.6s\nEpoch [11/50] | Train Loss: 1.4282 | Train Acc: 57.73% | Test Acc: 66.35% | Time: 56.0s\nEpoch [12/50] | Train Loss: 1.4020 | Train Acc: 58.67% | Test Acc: 68.31% | Time: 55.4s\nEpoch [13/50] | Train Loss: 1.3763 | Train Acc: 59.96% | Test Acc: 69.44% | Time: 55.6s\nEpoch [14/50] | Train Loss: 1.3549 | Train Acc: 60.99% | Test Acc: 69.81% | Time: 55.6s\nEpoch [15/50] | Train Loss: 1.3288 | Train Acc: 62.26% | Test Acc: 71.53% | Time: 55.8s\nEpoch [16/50] | Train Loss: 1.3062 | Train Acc: 63.08% | Test Acc: 72.86% | Time: 55.6s\nEpoch [17/50] | Train Loss: 1.2873 | Train Acc: 64.21% | Test Acc: 71.84% | Time: 55.8s\nEpoch [18/50] | Train Loss: 1.2726 | Train Acc: 64.74% | Test Acc: 72.33% | Time: 55.9s\nEpoch [19/50] | Train Loss: 1.2515 | Train Acc: 65.75% | Test Acc: 73.52% | Time: 56.1s\nEpoch [20/50] | Train Loss: 1.2333 | Train Acc: 66.69% | Test Acc: 73.02% | Time: 55.9s\nEpoch [21/50] | Train Loss: 1.2124 | Train Acc: 67.62% | Test Acc: 74.94% | Time: 56.2s\nEpoch [22/50] | Train Loss: 1.1939 | Train Acc: 68.30% | Test Acc: 76.01% | Time: 56.4s\nEpoch [23/50] | Train Loss: 1.1743 | Train Acc: 69.28% | Test Acc: 76.49% | Time: 56.1s\nEpoch [24/50] | Train Loss: 1.1593 | Train Acc: 69.93% | Test Acc: 76.70% | Time: 55.8s\nEpoch [25/50] | Train Loss: 1.1438 | Train Acc: 70.85% | Test Acc: 78.14% | Time: 56.1s\nEpoch [26/50] | Train Loss: 1.1290 | Train Acc: 71.54% | Test Acc: 78.89% | Time: 56.5s\nEpoch [27/50] | Train Loss: 1.1130 | Train Acc: 72.21% | Test Acc: 79.03% | Time: 56.4s\nEpoch [28/50] | Train Loss: 1.0933 | Train Acc: 73.17% | Test Acc: 79.46% | Time: 56.1s\nEpoch [29/50] | Train Loss: 1.0766 | Train Acc: 73.96% | Test Acc: 79.46% | Time: 55.9s\nEpoch [30/50] | Train Loss: 1.0658 | Train Acc: 74.29% | Test Acc: 80.49% | Time: 56.1s\nEpoch [31/50] | Train Loss: 1.0558 | Train Acc: 74.80% | Test Acc: 81.05% | Time: 55.6s\nEpoch [32/50] | Train Loss: 1.0395 | Train Acc: 75.51% | Test Acc: 80.34% | Time: 56.0s\nEpoch [33/50] | Train Loss: 1.0250 | Train Acc: 76.26% | Test Acc: 81.37% | Time: 56.1s\nEpoch [34/50] | Train Loss: 1.0143 | Train Acc: 76.88% | Test Acc: 80.70% | Time: 56.0s\nEpoch [35/50] | Train Loss: 1.0038 | Train Acc: 77.25% | Test Acc: 82.05% | Time: 56.0s\nEpoch [36/50] | Train Loss: 0.9905 | Train Acc: 77.93% | Test Acc: 82.14% | Time: 56.0s\nEpoch [37/50] | Train Loss: 0.9738 | Train Acc: 78.54% | Test Acc: 81.97% | Time: 56.2s\nEpoch [38/50] | Train Loss: 0.9682 | Train Acc: 78.93% | Test Acc: 82.77% | Time: 55.8s\nEpoch [39/50] | Train Loss: 0.9604 | Train Acc: 79.17% | Test Acc: 82.84% | Time: 56.1s\nEpoch [40/50] | Train Loss: 0.9454 | Train Acc: 79.96% | Test Acc: 83.39% | Time: 56.0s\nEpoch [41/50] | Train Loss: 0.9419 | Train Acc: 80.32% | Test Acc: 83.02% | Time: 56.3s\nEpoch [42/50] | Train Loss: 0.9359 | Train Acc: 80.32% | Test Acc: 83.46% | Time: 55.5s\nEpoch [43/50] | Train Loss: 0.9262 | Train Acc: 80.99% | Test Acc: 83.67% | Time: 56.0s\nEpoch [44/50] | Train Loss: 0.9232 | Train Acc: 81.03% | Test Acc: 83.51% | Time: 55.7s\nEpoch [45/50] | Train Loss: 0.9214 | Train Acc: 81.03% | Test Acc: 83.45% | Time: 56.0s\nEpoch [46/50] | Train Loss: 0.9136 | Train Acc: 81.57% | Test Acc: 83.42% | Time: 55.9s\nEpoch [47/50] | Train Loss: 0.9182 | Train Acc: 81.32% | Test Acc: 83.60% | Time: 55.9s\nEpoch [48/50] | Train Loss: 0.9090 | Train Acc: 81.50% | Test Acc: 83.68% | Time: 55.9s\nEpoch [49/50] | Train Loss: 0.9065 | Train Acc: 81.79% | Test Acc: 83.60% | Time: 56.0s\nEpoch [50/50] | Train Loss: 0.9077 | Train Acc: 81.70% | Test Acc: 83.74% | Time: 56.1s\n",
          "output_type": "stream"
        }
      ],
      "execution_count": null
    },
    {
      "cell_type": "code",
      "source": [
        "best_acc"
      ],
      "metadata": {
        "trusted": true,
        "execution": {
          "iopub.status.busy": "2025-10-03T20:19:42.580527Z",
          "iopub.execute_input": "2025-10-03T20:19:42.580818Z",
          "iopub.status.idle": "2025-10-03T20:19:42.586337Z",
          "shell.execute_reply.started": "2025-10-03T20:19:42.580794Z",
          "shell.execute_reply": "2025-10-03T20:19:42.585627Z"
        },
        "id": "MS1A5SGIvGd5",
        "outputId": "db1e4861-4e5b-464f-9c22-4845778202ba"
      },
      "outputs": [
        {
          "execution_count": 30,
          "output_type": "execute_result",
          "data": {
            "text/plain": "0.8374"
          },
          "metadata": {}
        }
      ],
      "execution_count": null
    },
    {
      "cell_type": "code",
      "source": [
        "model.load_state_dict(best_model)\n",
        "print(f\"\\nBest Test Accuracy: {best_acc*100:.2f}%\")"
      ],
      "metadata": {
        "trusted": true,
        "execution": {
          "iopub.status.busy": "2025-10-03T20:19:45.763928Z",
          "iopub.execute_input": "2025-10-03T20:19:45.764196Z",
          "iopub.status.idle": "2025-10-03T20:19:45.772707Z",
          "shell.execute_reply.started": "2025-10-03T20:19:45.764175Z",
          "shell.execute_reply": "2025-10-03T20:19:45.772167Z"
        },
        "id": "BpFi4HaEvGd5",
        "outputId": "2e559fc3-2660-4816-db09-77d770e000bf"
      },
      "outputs": [
        {
          "name": "stdout",
          "text": "\nBest Test Accuracy: 83.74%\n",
          "output_type": "stream"
        }
      ],
      "execution_count": null
    },
    {
      "cell_type": "code",
      "source": [
        "plt.figure(figsize=(12,5))\n",
        "plt.subplot(1,2,1)\n",
        "plt.plot([x*100 for x in train_acc_list], label='Train Acc')\n",
        "plt.plot([x*100 for x in val_acc_list], label='Val Acc')\n",
        "plt.xlabel('Epochs')\n",
        "plt.ylabel('Accuracy (%)')\n",
        "plt.legend()\n",
        "plt.title('Train vs Validation Accuracy')\n",
        "\n",
        "plt.subplot(1,2,2)\n",
        "plt.plot(train_loss_list, label='Train Loss', color='red')\n",
        "plt.xlabel('Epochs')\n",
        "plt.ylabel('Loss')\n",
        "plt.legend()\n",
        "plt.title('Training Loss')\n",
        "plt.show()"
      ],
      "metadata": {
        "trusted": true,
        "execution": {
          "iopub.status.busy": "2025-10-03T20:19:48.599062Z",
          "iopub.execute_input": "2025-10-03T20:19:48.599353Z",
          "iopub.status.idle": "2025-10-03T20:19:49.182978Z",
          "shell.execute_reply.started": "2025-10-03T20:19:48.599299Z",
          "shell.execute_reply": "2025-10-03T20:19:49.182078Z"
        },
        "id": "KhGbWdFIvGd5",
        "outputId": "6dda1664-68ee-44b2-ddae-8a706138b00b"
      },
      "outputs": [
        {
          "output_type": "display_data",
          "data": {
            "text/plain": "<Figure size 1200x500 with 2 Axes>",
            "image/png": "[encoded data removed]"
          },
          "metadata": {}
        }
      ],
      "execution_count": null
    },
    {
      "cell_type": "markdown",
      "source": [
        "As per ViT research paper I initially started with using 224x224 by resizing the images but due to limited gpu access and higher time usage per epoch than 128x128 Image_Size I moved with it to make efficient usage of time"
      ],
      "metadata": {
        "id": "86b-wCTqwjq2"
      }
    },
    {
      "cell_type": "code",
      "source": [],
      "metadata": {
        "id": "4ydvy1wpw6WZ"
      },
      "execution_count": null,
      "outputs": []
    }
  ]
}